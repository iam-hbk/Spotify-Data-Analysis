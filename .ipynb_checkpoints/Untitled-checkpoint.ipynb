{
 "cells": [
  {
   "cell_type": "markdown",
   "id": "e2e47653-0965-427a-88d2-b13a9892757a",
   "metadata": {},
   "source": [
    "# Spotify Listening History Analysis\n",
    "\n",
    "## Project Overview\n",
    "This project aims to perform descriptive analysis on personal Spotify listening history. The objective is to uncover patterns, trends, and insights into my music listening habits over time. By analyzing my streaming history and library data provided by Spotify, I hope to gain a deeper understanding of my music preferences and how they have evolved.\n",
    "\n",
    "## Data Description\n",
    "The data comes in JSON format, divided into three main categories:\n",
    "- **Streaming History:** Contains detailed records of songs listened to, including artist name, track name, end time, and listening duration. We have three files representing different time periods.\n",
    "- **Library Information:** Provides information about the tracks saved in the Spotify library, including artist name, album name, and track details.\n",
    "\n",
    "## Analysis Steps\n",
    "1. **Data Loading:** Load the JSON files into pandas DataFrames for easy manipulation and analysis.\n",
    "2. **Data Cleaning:** Inspect the data for inconsistencies, missing values, or anomalies that could skew the analysis. Standardize the data formats if necessary.\n",
    "3. **Exploratory Data Analysis (EDA):**\n",
    "   - Analyze listening trends over time.\n",
    "   - Identify top artists, albums, and tracks.\n",
    "   - Explore listening habits (e.g., most active listening times/days).\n",
    "4. **Insights and Visualization:** Use graphs and charts to visualize findings from the EDA. Highlight any interesting patterns or insights about listening preferences and habits.\n",
    "5. **Conclusions:** Summarize the key takeaways and any potential recommendations for future listening based on the analysis.\n",
    "\n",
    "## Interesting Facts and Learnings\n",
    "(As we progress through the analysis, this section will be populated with any interesting findings, patterns, or insights derived from the data.)\n"
   ]
  },
  {
   "cell_type": "code",
   "execution_count": null,
   "id": "90f4af77-eaec-479c-b545-9678dc256b3a",
   "metadata": {},
   "outputs": [],
   "source": [
    "import pandas as pd\n",
    "import os\n",
    "\n",
    "print()\n",
    "# Load one of the streaming history files\n",
    "# streaming_history_path = 'StreamingHistory_music_0.json'\n",
    "# streaming_history_df = pd.read_json(streaming_history_path)\n",
    "\n",
    "# Display the first few rows of the dataframe to understand its structure\n",
    "# streaming_history_df.head()\n"
   ]
  }
 ],
 "metadata": {
  "kernelspec": {
   "display_name": "Python 3 (ipykernel)",
   "language": "python",
   "name": "python3"
  },
  "language_info": {
   "codemirror_mode": {
    "name": "ipython",
    "version": 3
   },
   "file_extension": ".py",
   "mimetype": "text/x-python",
   "name": "python",
   "nbconvert_exporter": "python",
   "pygments_lexer": "ipython3",
   "version": "3.12.2"
  }
 },
 "nbformat": 4,
 "nbformat_minor": 5
}
