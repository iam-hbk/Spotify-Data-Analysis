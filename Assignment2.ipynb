{
 "cells": [
  {
   "cell_type": "markdown",
   "id": "e2e47653-0965-427a-88d2-b13a9892757a",
   "metadata": {},
   "source": [
    "# Spotify Listening History Analysis\n",
    "\n",
    "![Spotify Image](spotify-logo.jpg)\n",
    "\n",
    "## Author: PH Kaumbu\n",
    "## Student Number: 220080995\n",
    "## Source: Personal Data from Spotify\n",
    "## Github Url: \n",
    "\n",
    "## Project Overview\n",
    "This project aims to perform descriptive analysis on personal Spotify listening history. The objective is to uncover patterns, trends, and insights into my music listening habits over time. By analyzing my streaming history and library data provided by Spotify, I hope to gain a deeper understanding of my music preferences and how they have evolved.\n",
    "\n",
    "## Data Description\n",
    "The data comes in JSON format, divided into three main categories:\n",
    "- **Streaming History:** Contains detailed records of songs listened to, including artist name, track name, end time, and listening duration. We have three files representing different time periods.\n",
    "- **Library Information:** Provides information about the tracks saved in the Spotify library, including artist name, album name, and track details.\n",
    "\n",
    "## Analysis Steps\n",
    "1. **Data Loading:** Load the JSON files into pandas DataFrames for easy manipulation and analysis.\n",
    "2. **Data Cleaning:** Inspect the data for inconsistencies, missing values, or anomalies that could skew the analysis. Standardize the data formats if necessary.\n",
    "3. **Exploratory Data Analysis (EDA):**\n",
    "   - Analyze listening trends over time.\n",
    "   - Identify top artists, albums, and tracks.\n",
    "   - Explore listening habits (e.g., most active listening times/days).\n",
    "4. **Insights and Visualization:** Use graphs and charts to visualize findings from the EDA. Highlight any interesting patterns or insights about listening preferences and habits.\n",
    "5. **Conclusions:** Summarize the key takeaways and any potential recommendations for future listening based on the analysis.\n",
    "\n",
    "## Interesting Facts and Learnings\n",
    "(As we progress through the analysis, this section will be populated with any interesting findings, patterns, or insights derived from the data.)\n"
   ]
  },
  {
   "cell_type": "markdown",
   "id": "1bd93a45",
   "metadata": {},
   "source": [
    "## 1. Data Loading\n",
    "There is a requirements file in the same directory as this script\n",
    "`pip install -r requirements.txt` to install the required packages\n"
   ]
  },
  {
   "cell_type": "code",
   "execution_count": 6,
   "id": "90f4af77-eaec-479c-b545-9678dc256b3a",
   "metadata": {},
   "outputs": [
    {
     "name": "stdout",
     "output_type": "stream",
     "text": [
      "/Users/heritierkaumbu/Documents/Bcom Hons IS/Learning From Data/Spotify Account Data\n"
     ]
    },
    {
     "data": {
      "text/html": [
       "<div>\n",
       "<style scoped>\n",
       "    .dataframe tbody tr th:only-of-type {\n",
       "        vertical-align: middle;\n",
       "    }\n",
       "\n",
       "    .dataframe tbody tr th {\n",
       "        vertical-align: top;\n",
       "    }\n",
       "\n",
       "    .dataframe thead th {\n",
       "        text-align: right;\n",
       "    }\n",
       "</style>\n",
       "<table border=\"1\" class=\"dataframe\">\n",
       "  <thead>\n",
       "    <tr style=\"text-align: right;\">\n",
       "      <th></th>\n",
       "      <th>endTime</th>\n",
       "      <th>artistName</th>\n",
       "      <th>trackName</th>\n",
       "      <th>msPlayed</th>\n",
       "    </tr>\n",
       "  </thead>\n",
       "  <tbody>\n",
       "    <tr>\n",
       "      <th>0</th>\n",
       "      <td>2023-03-10 22:58</td>\n",
       "      <td>Hot Chelle Rae</td>\n",
       "      <td>Don't Say Goodnight</td>\n",
       "      <td>119586</td>\n",
       "    </tr>\n",
       "    <tr>\n",
       "      <th>1</th>\n",
       "      <td>2023-03-11 05:20</td>\n",
       "      <td>Florocka</td>\n",
       "      <td>Twale</td>\n",
       "      <td>256998</td>\n",
       "    </tr>\n",
       "    <tr>\n",
       "      <th>2</th>\n",
       "      <td>2023-03-11 05:27</td>\n",
       "      <td>Banky W.</td>\n",
       "      <td>My Destiny</td>\n",
       "      <td>435472</td>\n",
       "    </tr>\n",
       "    <tr>\n",
       "      <th>3</th>\n",
       "      <td>2023-03-11 05:42</td>\n",
       "      <td>DOE</td>\n",
       "      <td>What I'm Waiting For</td>\n",
       "      <td>170589</td>\n",
       "    </tr>\n",
       "    <tr>\n",
       "      <th>4</th>\n",
       "      <td>2023-03-11 18:14</td>\n",
       "      <td>DJ Khaled</td>\n",
       "      <td>All I Do Is Win (feat. T-Pain, Ludacris, Snoop...</td>\n",
       "      <td>232506</td>\n",
       "    </tr>\n",
       "  </tbody>\n",
       "</table>\n",
       "</div>"
      ],
      "text/plain": [
       "            endTime      artistName  \\\n",
       "0  2023-03-10 22:58  Hot Chelle Rae   \n",
       "1  2023-03-11 05:20        Florocka   \n",
       "2  2023-03-11 05:27        Banky W.   \n",
       "3  2023-03-11 05:42             DOE   \n",
       "4  2023-03-11 18:14       DJ Khaled   \n",
       "\n",
       "                                           trackName  msPlayed  \n",
       "0                                Don't Say Goodnight    119586  \n",
       "1                                              Twale    256998  \n",
       "2                                         My Destiny    435472  \n",
       "3                               What I'm Waiting For    170589  \n",
       "4  All I Do Is Win (feat. T-Pain, Ludacris, Snoop...    232506  "
      ]
     },
     "execution_count": 6,
     "metadata": {},
     "output_type": "execute_result"
    }
   ],
   "source": [
    "import pandas as pd\n",
    "import os\n",
    "import matplotlib.pyplot as plt\n",
    "\n",
    "print(os.getcwd())  # To get a sense of where we are\n",
    "\n",
    "# Load one of the streaming history files\n",
    "streaming_history_path = \"StreamingHistory_music_0.json\"\n",
    "\n",
    "# Load the data into a pandas dataframe\n",
    "streaming_history_df = pd.read_json(streaming_history_path)\n",
    "\n",
    "# Display the first few rows of the dataframe to understand its structure\n",
    "streaming_history_df.head()"
   ]
  },
  {
   "cell_type": "markdown",
   "id": "9b16e393",
   "metadata": {},
   "source": [
    "The first streaming history file has been successfully loaded, and here's a glimpse into its structure:\n",
    "\n",
    "- **endTime:** The timestamp when the listening session ended.\n",
    "- **artistName:** The name of the artist.\n",
    "- **trackName:** The name of the track.\n",
    "- **msPlayed:** The duration of the track played in milliseconds.\n",
    "\n",
    "With this structure in mind, we can proceed to load all streaming history data and the library information to perform a comprehensive analysis. Let's move on to combining all streaming history data into a single DataFrame for a more extensive exploration."
   ]
  },
  {
   "cell_type": "code",
   "execution_count": 7,
   "id": "b20b3770",
   "metadata": {},
   "outputs": [
    {
     "name": "stdout",
     "output_type": "stream",
     "text": [
      "<class 'pandas.core.frame.DataFrame'>\n",
      "RangeIndex: 28110 entries, 0 to 28109\n",
      "Data columns (total 4 columns):\n",
      " #   Column      Non-Null Count  Dtype \n",
      "---  ------      --------------  ----- \n",
      " 0   endTime     28110 non-null  object\n",
      " 1   artistName  28110 non-null  object\n",
      " 2   trackName   28110 non-null  object\n",
      " 3   msPlayed    28110 non-null  int64 \n",
      "dtypes: int64(1), object(3)\n",
      "memory usage: 878.6+ KB\n"
     ]
    },
    {
     "data": {
      "text/html": [
       "<div>\n",
       "<style scoped>\n",
       "    .dataframe tbody tr th:only-of-type {\n",
       "        vertical-align: middle;\n",
       "    }\n",
       "\n",
       "    .dataframe tbody tr th {\n",
       "        vertical-align: top;\n",
       "    }\n",
       "\n",
       "    .dataframe thead th {\n",
       "        text-align: right;\n",
       "    }\n",
       "</style>\n",
       "<table border=\"1\" class=\"dataframe\">\n",
       "  <thead>\n",
       "    <tr style=\"text-align: right;\">\n",
       "      <th></th>\n",
       "      <th>endTime</th>\n",
       "      <th>artistName</th>\n",
       "      <th>trackName</th>\n",
       "      <th>msPlayed</th>\n",
       "    </tr>\n",
       "  </thead>\n",
       "  <tbody>\n",
       "    <tr>\n",
       "      <th>0</th>\n",
       "      <td>2023-03-10 22:58</td>\n",
       "      <td>Hot Chelle Rae</td>\n",
       "      <td>Don't Say Goodnight</td>\n",
       "      <td>119586</td>\n",
       "    </tr>\n",
       "    <tr>\n",
       "      <th>1</th>\n",
       "      <td>2023-03-11 05:20</td>\n",
       "      <td>Florocka</td>\n",
       "      <td>Twale</td>\n",
       "      <td>256998</td>\n",
       "    </tr>\n",
       "    <tr>\n",
       "      <th>2</th>\n",
       "      <td>2023-03-11 05:27</td>\n",
       "      <td>Banky W.</td>\n",
       "      <td>My Destiny</td>\n",
       "      <td>435472</td>\n",
       "    </tr>\n",
       "    <tr>\n",
       "      <th>3</th>\n",
       "      <td>2023-03-11 05:42</td>\n",
       "      <td>DOE</td>\n",
       "      <td>What I'm Waiting For</td>\n",
       "      <td>170589</td>\n",
       "    </tr>\n",
       "    <tr>\n",
       "      <th>4</th>\n",
       "      <td>2023-03-11 18:14</td>\n",
       "      <td>DJ Khaled</td>\n",
       "      <td>All I Do Is Win (feat. T-Pain, Ludacris, Snoop...</td>\n",
       "      <td>232506</td>\n",
       "    </tr>\n",
       "  </tbody>\n",
       "</table>\n",
       "</div>"
      ],
      "text/plain": [
       "            endTime      artistName  \\\n",
       "0  2023-03-10 22:58  Hot Chelle Rae   \n",
       "1  2023-03-11 05:20        Florocka   \n",
       "2  2023-03-11 05:27        Banky W.   \n",
       "3  2023-03-11 05:42             DOE   \n",
       "4  2023-03-11 18:14       DJ Khaled   \n",
       "\n",
       "                                           trackName  msPlayed  \n",
       "0                                Don't Say Goodnight    119586  \n",
       "1                                              Twale    256998  \n",
       "2                                         My Destiny    435472  \n",
       "3                               What I'm Waiting For    170589  \n",
       "4  All I Do Is Win (feat. T-Pain, Ludacris, Snoop...    232506  "
      ]
     },
     "execution_count": 7,
     "metadata": {},
     "output_type": "execute_result"
    }
   ],
   "source": [
    "# Paths to all streaming history files\n",
    "streaming_files = [\n",
    "    \"StreamingHistory_music_0.json\",\n",
    "    \"StreamingHistory_music_1.json\",\n",
    "    \"StreamingHistory_music_2.json\",\n",
    "]\n",
    "\n",
    "# Load and concatenate all streaming history data\n",
    "all_streaming_df = pd.concat(\n",
    "    [pd.read_json(file) for file in streaming_files], ignore_index=True\n",
    ")\n",
    "\n",
    "# Display basic information about the combined DataFrame\n",
    "all_streaming_df.info()\n",
    "\n",
    "# Preview the first few rows of the combined DataFrame\n",
    "all_streaming_df.head()"
   ]
  },
  {
   "cell_type": "markdown",
   "id": "8e8d2625",
   "metadata": {},
   "source": [
    "\n",
    "Loaded the Spotify streaming history into a DataFrame, revealing 28,110 entries detailing my listening sessions. The data is clean, with each record showing when I finished listening to a track, who the artist was, the track name, and how long I listened.\n",
    "\n",
    "### Initial Observations:\n",
    "\n",
    "- All data is present and accounted for—no cleaning required.\n",
    "- Memory usage is minimal, so we're good to handle the data in-memory.\n",
    "\n",
    "### Next Steps:\n",
    "\n",
    "The plan is to convert listening time to minutes, identify top artists and tracks, look for listening patterns over time, and present these insights visually.\n",
    "\n",
    "Let's dive into the data and see what my music preferences reveal about me!\n",
    "\n"
   ]
  },
  {
   "cell_type": "markdown",
   "id": "133b43da",
   "metadata": {},
   "source": [
    "# 2.Exploratory Data Analysis (EDA)"
   ]
  },
  {
   "cell_type": "code",
   "execution_count": 8,
   "id": "3b23e2a8",
   "metadata": {},
   "outputs": [
    {
     "name": "stdout",
     "output_type": "stream",
     "text": [
      "Total Listening Time: 88115.27513333334 minutes\n",
      "Average Track Length: 3.13 minutes\n",
      "Most Common Artist: Hillsong Instrumentals\n",
      "Most Common Track: My Blessings (Love Me)\n",
      "Standard Deviation of Listening Times: 1.70 minutes\n",
      "Median Listening Time per Track: 3.22 minutes\n"
     ]
    }
   ],
   "source": [
    "\n",
    "# Convert 'msPlayed' to 'minutesPlayed' for better readability\n",
    "all_streaming_df['minutesPlayed'] = all_streaming_df['msPlayed'] / 60000\n",
    "\n",
    "# Calculate total listening time in minutes\n",
    "total_listening_minutes = all_streaming_df['minutesPlayed'].sum()\n",
    "print(f\"Total Listening Time: {total_listening_minutes} minutes\")\n",
    "\n",
    "# Calculate the average listening time per track in minutes\n",
    "average_track_length_minutes = all_streaming_df['minutesPlayed'].mean()\n",
    "print(f\"Average Track Length: {average_track_length_minutes:.2f} minutes\")\n",
    "\n",
    "# Find the most common artist - the mode for 'artistName'\n",
    "most_common_artist = all_streaming_df['artistName'].mode()[0]\n",
    "print(f\"Most Common Artist: {most_common_artist}\")\n",
    "\n",
    "# Find the most common track - the mode for 'trackName'\n",
    "most_common_track = all_streaming_df['trackName'].mode()[0]\n",
    "print(f\"Most Common Track: {most_common_track}\")\n",
    "\n",
    "# Standard Deviation for 'minutesPlayed' - measures the amount of variation or dispersion of listening times\n",
    "std_dev_listening_times = all_streaming_df['minutesPlayed'].std()\n",
    "print(f\"Standard Deviation of Listening Times: {std_dev_listening_times:.2f} minutes\")\n",
    "\n",
    "# Median of 'minutesPlayed' - a better measure of central tendency when data is skewed\n",
    "median_listening_time = all_streaming_df['minutesPlayed'].median()\n",
    "print(f\"Median Listening Time per Track: {median_listening_time:.2f} minutes\")\n"
   ]
  },
  {
   "cell_type": "markdown",
   "id": "ee05a3d7",
   "metadata": {},
   "source": [
    "- **Total Listening Time:** 88,115.28 minutes spent on Spotify. That's about 61 days of music! It showcases the significant portion of time music occupies in my daily life.\n",
    "  \n",
    "- **Average Track Length:** At 3.13 minutes per track, it's clear that I favor songs of a typical length, suggesting a preference for standard, radio-friendly tracks.\n",
    "\n",
    "- **Most Common Artist:** Hillsong Instrumentals topping the list indicates a strong inclination towards their music, that's because I'm a Chistian that code 😂. Helps with focus.\n",
    "\n",
    "- **Most Common Track:** 'My Blessings (Love Me)' as the most frequently played track. I really loved that song. It resonates with me on a personal level, both for its melody or lyrics. I have been practicing gratefulness and appreciation for my life and the positive things going on in it.\n",
    "\n",
    "- **Standard Deviation of Listening Times:** A standard deviation of 1.70 minutes points to a relatively consistent track length preference with some variety.\n",
    "\n",
    "- **Median Listening Time per Track:** The median time of 3.22 minutes is close to the average, reinforcing that most tracks I listen to are around the standard song length.\n",
    "\n",
    "Let’s break down these next steps:\n",
    "\n",
    "1. **Temporal Analysis**: Identify any patterns based on the `endTime` column to see when I listen to music the most, possibly by extracting the hour of the day or the day of the week from the timestamps.\n",
    "2. **Variability in Listening Sessions**: Use the standard deviation to explore how varied my listening sessions are. A higher standard deviation would indicate that the length of time I spend listening varies more significantly from session to session.\n",
    "3. **Genre Exploration**: If available, categorize tracks by genre and analyze which genres I listen to most often, and see if there are shifts in genre preference over time.\n",
    "4. **Engagement Over Time**: Calculate metrics like the total number of tracks listened per day or month to evaluate my engagement over the period represented by the data.\n"
   ]
  },
  {
   "cell_type": "code",
   "execution_count": 9,
   "id": "19c8b945",
   "metadata": {
    "scrolled": true
   },
   "outputs": [
    {
     "name": "stdout",
     "output_type": "stream",
     "text": [
      "Total Listening Time by Day:\n",
      "dayOfWeek\n",
      "Sunday        9862.170800\n",
      "Wednesday    10460.158783\n",
      "Monday       12550.803483\n",
      "Friday       12848.220717\n",
      "Tuesday      13501.420617\n",
      "Thursday     13524.394833\n",
      "Saturday     15368.105900\n",
      "Name: minutesPlayed, dtype: float64\n",
      "\n",
      "Average Listening Time by Hour:\n",
      "hourOfDay\n",
      "17    2.735068\n",
      "14    2.819591\n",
      "19    2.858447\n",
      "18    2.903232\n",
      "16    2.910174\n",
      "12    2.922905\n",
      "15    2.945923\n",
      "21    2.960521\n",
      "10    2.992653\n",
      "20    3.011407\n",
      "13    3.013192\n",
      "11    3.026278\n",
      "7     3.117266\n",
      "9     3.123484\n",
      "6     3.160322\n",
      "8     3.233287\n",
      "22    3.349536\n",
      "5     3.408720\n",
      "23    3.468259\n",
      "0     3.603213\n",
      "4     3.623562\n",
      "2     3.780599\n",
      "1     3.791506\n",
      "3     3.868385\n",
      "Name: minutesPlayed, dtype: float64\n",
      "\n",
      "Most Active Listening Day: Saturday\n",
      "Most Active Listening Hour: 3 o'clock\n",
      "Variability in Listening Sessions by Hour:\n",
      "hourOfDay\n",
      "0     1.452867\n",
      "1     1.549547\n",
      "2     1.497633\n",
      "3     1.660310\n",
      "4     1.829009\n",
      "5     1.828476\n",
      "6     1.903588\n",
      "7     1.856959\n",
      "8     1.899253\n",
      "9     1.697958\n",
      "10    1.599455\n",
      "11    1.600374\n",
      "12    1.724571\n",
      "13    1.713762\n",
      "14    1.639992\n",
      "15    1.720590\n",
      "16    1.696115\n",
      "17    1.600628\n",
      "18    1.646740\n",
      "19    1.666286\n",
      "20    1.710655\n",
      "21    1.577699\n",
      "22    1.491127\n",
      "23    1.442585\n",
      "Name: minutesPlayed, dtype: float64\n",
      "\n",
      "Median Listening Time by Day:\n",
      "dayOfWeek\n",
      "Thursday     3.013700\n",
      "Wednesday    3.108442\n",
      "Saturday     3.195300\n",
      "Monday       3.218183\n",
      "Sunday       3.288217\n",
      "Tuesday      3.306500\n",
      "Friday       3.355883\n",
      "Name: minutesPlayed, dtype: float64\n",
      "\n"
     ]
    }
   ],
   "source": [
    "\n",
    "\n",
    "# Convert 'endTime' to datetime format and create new columns for day of the week and hour of the day\n",
    "all_streaming_df['endTime'] = pd.to_datetime(all_streaming_df['endTime'])\n",
    "\n",
    "all_streaming_df['dayOfWeek'] = all_streaming_df['endTime'].dt.day_name()\n",
    "all_streaming_df['hourOfDay'] = all_streaming_df['endTime'].dt.hour\n",
    "\n",
    "# Calculate the total listening time for each day of the week\n",
    "total_listening_time_by_day = all_streaming_df.groupby('dayOfWeek')['minutesPlayed'].sum().sort_values()\n",
    "\n",
    "# Calculate the mean listening time for each hour of the day\n",
    "average_listening_time_by_hour = all_streaming_df.groupby('hourOfDay')['minutesPlayed'].mean().sort_values()\n",
    "\n",
    "# Determine the most active listening day of the week\n",
    "most_active_listening_day = total_listening_time_by_day.idxmax()\n",
    "\n",
    "# Determine the most active listening hour of the day\n",
    "most_active_listening_hour = average_listening_time_by_hour.idxmax()\n",
    "\n",
    "# Calculate the variability in listening sessions across different hours of the day\n",
    "variability_by_hour = all_streaming_df.groupby('hourOfDay')['minutesPlayed'].std()\n",
    "\n",
    "# Find the median listening time by day of the week\n",
    "median_listening_time_by_day = all_streaming_df.groupby('dayOfWeek')['minutesPlayed'].median().sort_values()\n",
    "\n",
    "# Print out the calculated metrics\n",
    "print(f\"Total Listening Time by Day:\\n{total_listening_time_by_day}\\n\")\n",
    "print(f\"Average Listening Time by Hour:\\n{average_listening_time_by_hour}\\n\")\n",
    "print(f\"Most Active Listening Day: {most_active_listening_day}\")\n",
    "print(f\"Most Active Listening Hour: {most_active_listening_hour} o'clock\")\n",
    "print(f\"Variability in Listening Sessions by Hour:\\n{variability_by_hour}\\n\")\n",
    "print(f\"Median Listening Time by Day:\\n{median_listening_time_by_day}\\n\")\n"
   ]
  },
  {
   "cell_type": "markdown",
   "id": "6bc1a032",
   "metadata": {},
   "source": [
    "\n",
    "- **Total Listening Time by Day:** Saturdays, I listen to music the most. It fits with coding, sports, and chilling out.\n",
    "  \n",
    "- **Average Listening Time by Hour:** At 3 AM, it looks like I listen to a lot of music. This is when I often code at night on weekends.\n",
    "\n",
    "- **Most Active Listening Day:** Saturday is the day I play the most music, which makes sense—it’s a busy day with lots of different activities.\n",
    "\n",
    "- **Most Active Listening Hour:** The data shows I listen to music the most at 3 AM, which lines up with when I’m usually up late working on code.\n",
    "\n",
    "- **Variability in Listening Sessions by Hour:** There's a big mix in how long I listen to music early in the morning. Some days it’s just for a quick workout or during a shower, and other times it’s for longer while coding.\n",
    "\n",
    "- **Median Listening Time by Day:** On Fridays, I tend to have music on for longer times, which might be when I start my weekend coding and have a good workout with music.\n",
    "\n",
    "So, music is a big part of my day, every day. It keeps me going whether I’m working out, coding, or just getting ready for the day. It’s cool to see how it fits into my daily life and studies."
   ]
  },
  {
   "cell_type": "markdown",
   "id": "707d46e1",
   "metadata": {},
   "source": [
    "### Top 10 listened to artists and tracks\n"
   ]
  },
  {
   "cell_type": "code",
   "execution_count": 10,
   "id": "4c18516e",
   "metadata": {},
   "outputs": [
    {
     "name": "stdout",
     "output_type": "stream",
     "text": [
      "Top 10 Artists:\n",
      " artistName\n",
      "Hillsong Instrumentals    1781\n",
      "Mali Music                 637\n",
      "Lecrae                     597\n",
      "Hillsong Worship           569\n",
      "Kanye West                 561\n",
      "Michael W. Smith           502\n",
      "Planetshakers              476\n",
      "Matt Maher                 353\n",
      "Don Moen                   277\n",
      "Paul Wilbur                227\n",
      "Name: count, dtype: int64\n",
      "\n",
      "Top 10 Tracks:\n",
      " trackName\n",
      "My Blessings (Love Me)                               305\n",
      "Lord, I Need You                                     158\n",
      "For Your Name Is Holy                                100\n",
      "Because He Lives                                      74\n",
      "Nothing Is Impossible (Featuring Israel Houghton)     69\n",
      "Overtaken (From\"Onepiece\")                            63\n",
      "Mighty To Save                                        61\n",
      "Turn It Up - Live                                     58\n",
      "Run                                                   56\n",
      "Endless Praise - Live                                 55\n",
      "Name: count, dtype: int64\n",
      "\n",
      "Top Track Each Hour:\n",
      "        hourOfDay                trackName  count\n",
      "439            0         Lord, I Need You     20\n",
      "1215           1         Lord, I Need You     18\n",
      "1965           2         Lord, I Need You     18\n",
      "2593           3         Lord, I Need You     11\n",
      "2939           4     Chain Breaker (Live)     14\n",
      "3956           5           Saturday Night      9\n",
      "4625           6   My Blessings (Love Me)     24\n",
      "5410           7   My Blessings (Love Me)     48\n",
      "6151           8   My Blessings (Love Me)     30\n",
      "6946           9   My Blessings (Love Me)     47\n",
      "7832          10   My Blessings (Love Me)     39\n",
      "8863          11   My Blessings (Love Me)     24\n",
      "9909          12   My Blessings (Love Me)     18\n",
      "10954         13   My Blessings (Love Me)     29\n",
      "12102         14   My Blessings (Love Me)      7\n",
      "12756         15                  Bound 2      9\n",
      "14076         16     Eagle's Wings - Live      7\n",
      "15089         17  Best Of 2014 Pop Mashup      7\n",
      "16340         18               Every Hour      7\n",
      "17432         19               Follow God      6\n",
      "18491         20                 Far Away      4\n",
      "19783         21         Lord, I Need You     17\n",
      "20797         22         Lord, I Need You     23\n",
      "21718         23         Lord, I Need You     19\n"
     ]
    }
   ],
   "source": [
    "# Calculate the top 10 most listened to artists and tracks\n",
    "top_artists = all_streaming_df['artistName'].value_counts().head(10)\n",
    "top_tracks = all_streaming_df['trackName'].value_counts().head(10)\n",
    "\n",
    "# Group by hour and track name to identify preferences for specific activities\n",
    "patterns_by_hour_track = all_streaming_df.groupby(['hourOfDay', 'trackName']).size().reset_index(name='count')\n",
    "top_track_each_hour = patterns_by_hour_track.loc[patterns_by_hour_track.groupby('hourOfDay')['count'].idxmax()]\n",
    "\n",
    "# Display the top artists and tracks\n",
    "print(\"Top 10 Artists:\\n\", top_artists)\n",
    "print(\"\\nTop 10 Tracks:\\n\", top_tracks)\n",
    "print(\"\\nTop Track Each Hour:\\n\", top_track_each_hour[['hourOfDay', 'trackName', 'count']])\n"
   ]
  },
  {
   "cell_type": "markdown",
   "id": "238edfa8",
   "metadata": {},
   "source": [
    "- Favorite artists and tracks reflect my Christian faith, with Hillsong Instrumentals as my top artist.\n",
    "- \"My Blessings (Love Me)\" by Mali Music is my most played track, significant for its motivational value.\n",
    "- \"Lord, I Need You\" is a recurring early-hour favorite, likely part of my morning routine for focus or inspiration.\n",
    "- Through the morning to early afternoon, \"My Blessings (Love Me)\" dominates, indicating its role in positive mornings.\n",
    "- Evening variety with tracks like \"Bound 2\" by Kanye West shows a mix for winding down or energizing my nights."
   ]
  },
  {
   "cell_type": "markdown",
   "id": "e952f719-6373-4282-9bb9-14ec02f10342",
   "metadata": {},
   "source": [
    "\n",
    "### Skewness of Listening Times\n",
    "Diving into the skewness to see how my music sessions tip the scale—do I favor shorter jams or the occasional long play?\n",
    "\n"
   ]
  },
  {
   "cell_type": "code",
   "execution_count": 11,
   "id": "c0cc4ce7",
   "metadata": {},
   "outputs": [
    {
     "data": {
      "text/plain": [
       "(0.4915925574038812, 0.49159255740388114)"
      ]
     },
     "execution_count": 11,
     "metadata": {},
     "output_type": "execute_result"
    }
   ],
   "source": [
    "# Manual skewness calculation\n",
    "n = len(all_streaming_df['minutesPlayed'])\n",
    "mean_listening_time = all_streaming_df['minutesPlayed'].mean()\n",
    "sigma = all_streaming_df['minutesPlayed'].std()\n",
    "\n",
    "# Calculate the sum of cubed deviations from the mean\n",
    "sum_cubed_deviations = ((all_streaming_df['minutesPlayed'] - mean_listening_time) ** 3).sum()\n",
    "\n",
    "# Skewness formula\n",
    "skewness_manual = (n / ((n - 1) * (n - 2))) * (sum_cubed_deviations / sigma ** 3)\n",
    "\n",
    "# Using Pandas to calculate skewness for comparison\n",
    "skewness_ = all_streaming_df['minutesPlayed'].skew()\n",
    "\n",
    "skewness_manual, skewness_\n"
   ]
  },
  {
   "cell_type": "markdown",
   "id": "0cca9d10",
   "metadata": {},
   "source": [
    "\n",
    "The skewness leaning a bit to the right tells me my usual picks are on the quicker side, perfect for keeping the vibe going without dragging out too long. But hey, every now and then, a longer track finds its way into my heart (and my playlist)"
   ]
  },
  {
   "cell_type": "markdown",
   "id": "034aa42a",
   "metadata": {},
   "source": [
    "### Median\n"
   ]
  },
  {
   "cell_type": "code",
   "execution_count": 13,
   "id": "7f65b841",
   "metadata": {},
   "outputs": [
    {
     "name": "stdout",
     "output_type": "stream",
     "text": [
      "Manually Calculated Median Listening Time: 3.22 minutes\n",
      "Pandas Calculated Median Listening Time: 3.22 minutes\n"
     ]
    }
   ],
   "source": [
    "\n",
    "# Manual Calculation\n",
    "sorted_times = all_streaming_df['minutesPlayed'].sort_values().reset_index(drop=True)\n",
    "num_observations = len(sorted_times)\n",
    "is_even = num_observations % 2 == 0\n",
    "\n",
    "if is_even:\n",
    "    middle_index1 = num_observations // 2 - 1\n",
    "    middle_index2 = num_observations // 2\n",
    "    median_manual = (sorted_times[middle_index1] + sorted_times[middle_index2]) / 2.0\n",
    "else:\n",
    "    middle_index = num_observations // 2\n",
    "    median_manual = sorted_times[middle_index]\n",
    "\n",
    "print(f\"Manually Calculated Median Listening Time: {median_manual:.2f} minutes\")\n",
    "\n",
    "# Using Pandas\n",
    "median_pandas = all_streaming_df['minutesPlayed'].median()\n",
    "print(f\"Pandas Calculated Median Listening Time: {median_pandas:.2f} minutes\")\n"
   ]
  },
  {
   "cell_type": "markdown",
   "id": "d7789103",
   "metadata": {},
   "source": [
    "The median tells me most songs I listen to are about 3 minutes long. That’s perfect for someone like me who’s always coding or working out. Short tracks mean I can enjoy a quick music break without losing focus on what I’m doing.\n"
   ]
  },
  {
   "cell_type": "markdown",
   "id": "c816c9c0",
   "metadata": {},
   "source": [
    "### Range\n"
   ]
  },
  {
   "cell_type": "code",
   "execution_count": 14,
   "id": "9269250a",
   "metadata": {},
   "outputs": [
    {
     "name": "stdout",
     "output_type": "stream",
     "text": [
      "Shortest Track: 0.00 minutes\n",
      "Longest Track: 18.81 minutes\n",
      "Listening Time Range: 18.81 minutes\n"
     ]
    }
   ],
   "source": [
    "\n",
    "# Calculate the range of listening times to see the spread of track lengths\n",
    "\n",
    "# Find the shortest and longest track\n",
    "min_time = all_streaming_df['minutesPlayed'].min()\n",
    "max_time = all_streaming_df['minutesPlayed'].max()\n",
    "\n",
    "# Calculate the range\n",
    "range_of_listening = max_time - min_time\n",
    "\n",
    "print(f\"Shortest Track: {min_time:.2f} minutes\")\n",
    "print(f\"Longest Track: {max_time:.2f} minutes\")\n",
    "print(f\"Listening Time Range: {range_of_listening:.2f} minutes\")\n"
   ]
  },
  {
   "cell_type": "markdown",
   "id": "659b06b1",
   "metadata": {},
   "source": [
    "This shows the variety in my music selection, from quick tunes that barely hit the minute mark to epic tracks for when I'm deep into coding or just chilling. It’s interesting to see such a wide range but how come I have listened to a 0.00 minutes song 😂 ? let's see how many they are. maybe my data is not as clean as I thought"
   ]
  },
  {
   "cell_type": "code",
   "execution_count": 15,
   "id": "7468e634",
   "metadata": {},
   "outputs": [
    {
     "name": "stdout",
     "output_type": "stream",
     "text": [
      "Number of records with songs less than 0.0 minutes: 96\n"
     ]
    }
   ],
   "source": [
    "num_records_less_than_zero = len(all_streaming_df[all_streaming_df['minutesPlayed'] <= 0.0])\n",
    "print(f\"Number of records with songs less than 0.0 minutes: {num_records_less_than_zero}\")\n"
   ]
  },
  {
   "cell_type": "markdown",
   "id": "3e1c6bb8",
   "metadata": {},
   "source": [
    "What ?😅 Now I'm very curious what those songs are"
   ]
  },
  {
   "cell_type": "code",
   "execution_count": 16,
   "id": "bbc22772",
   "metadata": {},
   "outputs": [
    {
     "name": "stdout",
     "output_type": "stream",
     "text": [
      "             artistName                               trackName  count\n",
      "0                 .Sinh                                Bergamot      1\n",
      "1                  2Pac                           Ghetto Gospel      1\n",
      "2                  2Pac  Thugz Mansion - 2Pac Original/Acoustic      1\n",
      "3   5 Seconds of Summer                                   Teeth      1\n",
      "4               50 Cent                          Just A Lil Bit      1\n",
      "..                  ...                                     ...    ...\n",
      "88    Twenty One Pilots                                    Ride      1\n",
      "89            Vance Joy                        We're Going Home      1\n",
      "90             YeloHill       Judas (feat. Lecrae) - Open Verse      1\n",
      "91           Youssoupha                                 PÉTROLE      1\n",
      "92           daigoro789             Natsuhibshi (From \"Naruto\")      1\n",
      "\n",
      "[93 rows x 3 columns]\n"
     ]
    }
   ],
   "source": [
    "# Define the variable \"unique_zero_minutes_records\" before using it\n",
    "unique_zero_minutes_records = all_streaming_df[all_streaming_df['minutesPlayed'] <= 0.0]\n",
    "\n",
    "# Calculate the count of zero minutes records by artist and track\n",
    "count_zero_minutes_records = unique_zero_minutes_records.groupby(['artistName', 'trackName']).size().reset_index(name='count')\n",
    "\n",
    "print(count_zero_minutes_records)\n"
   ]
  },
  {
   "cell_type": "markdown",
   "id": "66844691",
   "metadata": {},
   "source": [
    "Okay these are real songs with real artist 😂\n",
    "I think these are songs I actually skipped, let's see the length of the play in milliseconds and that may prove my point"
   ]
  },
  {
   "cell_type": "code",
   "execution_count": 17,
   "id": "5c409cc0",
   "metadata": {},
   "outputs": [
    {
     "data": {
      "text/html": [
       "<div>\n",
       "<style scoped>\n",
       "    .dataframe tbody tr th:only-of-type {\n",
       "        vertical-align: middle;\n",
       "    }\n",
       "\n",
       "    .dataframe tbody tr th {\n",
       "        vertical-align: top;\n",
       "    }\n",
       "\n",
       "    .dataframe thead th {\n",
       "        text-align: right;\n",
       "    }\n",
       "</style>\n",
       "<table border=\"1\" class=\"dataframe\">\n",
       "  <thead>\n",
       "    <tr style=\"text-align: right;\">\n",
       "      <th></th>\n",
       "      <th>endTime</th>\n",
       "      <th>artistName</th>\n",
       "      <th>trackName</th>\n",
       "      <th>msPlayed</th>\n",
       "      <th>minutesPlayed</th>\n",
       "      <th>dayOfWeek</th>\n",
       "      <th>hourOfDay</th>\n",
       "    </tr>\n",
       "  </thead>\n",
       "  <tbody>\n",
       "    <tr>\n",
       "      <th>128</th>\n",
       "      <td>2023-03-13 12:51:00</td>\n",
       "      <td>Chuck Berry</td>\n",
       "      <td>Route 66</td>\n",
       "      <td>0</td>\n",
       "      <td>0.0</td>\n",
       "      <td>Monday</td>\n",
       "      <td>12</td>\n",
       "    </tr>\n",
       "    <tr>\n",
       "      <th>280</th>\n",
       "      <td>2023-03-14 10:26:00</td>\n",
       "      <td>92 Keys</td>\n",
       "      <td>How Far I'll Go</td>\n",
       "      <td>0</td>\n",
       "      <td>0.0</td>\n",
       "      <td>Tuesday</td>\n",
       "      <td>10</td>\n",
       "    </tr>\n",
       "    <tr>\n",
       "      <th>456</th>\n",
       "      <td>2023-03-16 11:56:00</td>\n",
       "      <td>Foo Fighters</td>\n",
       "      <td>Let It Die</td>\n",
       "      <td>0</td>\n",
       "      <td>0.0</td>\n",
       "      <td>Thursday</td>\n",
       "      <td>11</td>\n",
       "    </tr>\n",
       "    <tr>\n",
       "      <th>525</th>\n",
       "      <td>2023-03-17 19:29:00</td>\n",
       "      <td>Sauti Sol</td>\n",
       "      <td>Short N Sweet</td>\n",
       "      <td>0</td>\n",
       "      <td>0.0</td>\n",
       "      <td>Friday</td>\n",
       "      <td>19</td>\n",
       "    </tr>\n",
       "    <tr>\n",
       "      <th>1679</th>\n",
       "      <td>2023-03-27 12:22:00</td>\n",
       "      <td>Fitz and The Tantrums</td>\n",
       "      <td>Out of My League</td>\n",
       "      <td>0</td>\n",
       "      <td>0.0</td>\n",
       "      <td>Monday</td>\n",
       "      <td>12</td>\n",
       "    </tr>\n",
       "    <tr>\n",
       "      <th>...</th>\n",
       "      <td>...</td>\n",
       "      <td>...</td>\n",
       "      <td>...</td>\n",
       "      <td>...</td>\n",
       "      <td>...</td>\n",
       "      <td>...</td>\n",
       "      <td>...</td>\n",
       "    </tr>\n",
       "    <tr>\n",
       "      <th>26385</th>\n",
       "      <td>2024-02-25 14:07:00</td>\n",
       "      <td>Les Archanges</td>\n",
       "      <td>Jésus Règne</td>\n",
       "      <td>0</td>\n",
       "      <td>0.0</td>\n",
       "      <td>Sunday</td>\n",
       "      <td>14</td>\n",
       "    </tr>\n",
       "    <tr>\n",
       "      <th>26386</th>\n",
       "      <td>2024-02-25 14:07:00</td>\n",
       "      <td>Les Archanges</td>\n",
       "      <td>Elevons Jesus</td>\n",
       "      <td>0</td>\n",
       "      <td>0.0</td>\n",
       "      <td>Sunday</td>\n",
       "      <td>14</td>\n",
       "    </tr>\n",
       "    <tr>\n",
       "      <th>27365</th>\n",
       "      <td>2024-03-05 18:02:00</td>\n",
       "      <td>Kaaris</td>\n",
       "      <td>Angle mort</td>\n",
       "      <td>0</td>\n",
       "      <td>0.0</td>\n",
       "      <td>Tuesday</td>\n",
       "      <td>18</td>\n",
       "    </tr>\n",
       "    <tr>\n",
       "      <th>27369</th>\n",
       "      <td>2024-03-05 18:12:00</td>\n",
       "      <td>Kaaris</td>\n",
       "      <td>Sur le banc</td>\n",
       "      <td>0</td>\n",
       "      <td>0.0</td>\n",
       "      <td>Tuesday</td>\n",
       "      <td>18</td>\n",
       "    </tr>\n",
       "    <tr>\n",
       "      <th>27423</th>\n",
       "      <td>2024-03-06 05:46:00</td>\n",
       "      <td>Colton Dixon</td>\n",
       "      <td>You Are</td>\n",
       "      <td>0</td>\n",
       "      <td>0.0</td>\n",
       "      <td>Wednesday</td>\n",
       "      <td>5</td>\n",
       "    </tr>\n",
       "  </tbody>\n",
       "</table>\n",
       "<p>96 rows × 7 columns</p>\n",
       "</div>"
      ],
      "text/plain": [
       "                  endTime             artistName         trackName  msPlayed  \\\n",
       "128   2023-03-13 12:51:00            Chuck Berry          Route 66         0   \n",
       "280   2023-03-14 10:26:00                92 Keys   How Far I'll Go         0   \n",
       "456   2023-03-16 11:56:00           Foo Fighters        Let It Die         0   \n",
       "525   2023-03-17 19:29:00              Sauti Sol     Short N Sweet         0   \n",
       "1679  2023-03-27 12:22:00  Fitz and The Tantrums  Out of My League         0   \n",
       "...                   ...                    ...               ...       ...   \n",
       "26385 2024-02-25 14:07:00          Les Archanges       Jésus Règne         0   \n",
       "26386 2024-02-25 14:07:00          Les Archanges     Elevons Jesus         0   \n",
       "27365 2024-03-05 18:02:00                 Kaaris        Angle mort         0   \n",
       "27369 2024-03-05 18:12:00                 Kaaris       Sur le banc         0   \n",
       "27423 2024-03-06 05:46:00           Colton Dixon           You Are         0   \n",
       "\n",
       "       minutesPlayed  dayOfWeek  hourOfDay  \n",
       "128              0.0     Monday         12  \n",
       "280              0.0    Tuesday         10  \n",
       "456              0.0   Thursday         11  \n",
       "525              0.0     Friday         19  \n",
       "1679             0.0     Monday         12  \n",
       "...              ...        ...        ...  \n",
       "26385            0.0     Sunday         14  \n",
       "26386            0.0     Sunday         14  \n",
       "27365            0.0    Tuesday         18  \n",
       "27369            0.0    Tuesday         18  \n",
       "27423            0.0  Wednesday          5  \n",
       "\n",
       "[96 rows x 7 columns]"
      ]
     },
     "execution_count": 17,
     "metadata": {},
     "output_type": "execute_result"
    }
   ],
   "source": [
    "all_streaming_df[all_streaming_df[\"msPlayed\"]<=0]"
   ]
  },
  {
   "cell_type": "markdown",
   "id": "8cda5678",
   "metadata": {},
   "source": [
    "Wow they really are absolute 0, I'll do what I learned in the first Learning from data class after recess\n",
    "I'll just look for those songs in my dataset and look at them with my own eyes.\n",
    "it's over 90 records of them though, I still believe that they may have been skipped I do not see any other reason why.\n",
    "I would love to hear your thought about this Sir. quick email: <heritierkaumbu@icloud.com>"
   ]
  },
  {
   "cell_type": "markdown",
   "id": "538b170d",
   "metadata": {},
   "source": [
    "### Variance"
   ]
  },
  {
   "cell_type": "code",
   "execution_count": 18,
   "id": "eaf7276a",
   "metadata": {},
   "outputs": [
    {
     "name": "stdout",
     "output_type": "stream",
     "text": [
      "Manually Calculated Variance: 2.89 minutes squared\n",
      "Pandas Calculated Variance: 2.89 minutes squared\n"
     ]
    }
   ],
   "source": [
    "# Calculate mean listening time\n",
    "mean_listening_time = all_streaming_df['minutesPlayed'].mean()\n",
    "\n",
    "# Calculate squared differences from the mean\n",
    "squared_diffs = (all_streaming_df['minutesPlayed'] - mean_listening_time) ** 2\n",
    "\n",
    "# Manually calculate the variance\n",
    "variance_manual = squared_diffs.mean()\n",
    "\n",
    "print(f\"Manually Calculated Variance: {variance_manual:.2f} minutes squared\")\n",
    "\n",
    "# Using Pandas to calculate the variance\n",
    "variance_pandas = all_streaming_df['minutesPlayed'].var()\n",
    "print(f\"Pandas Calculated Variance: {variance_pandas:.2f} minutes squared\")\n"
   ]
  },
  {
   "cell_type": "markdown",
   "id": "c62ce3af",
   "metadata": {},
   "source": [
    "### Standard Deviation"
   ]
  },
  {
   "cell_type": "code",
   "execution_count": 19,
   "id": "2ebf171d",
   "metadata": {},
   "outputs": [
    {
     "name": "stdout",
     "output_type": "stream",
     "text": [
      "Manually Calculated Standard Deviation: 1.70 minutes\n",
      "Pandas Calculated Standard Deviation: 1.70 minutes\n"
     ]
    }
   ],
   "source": [
    "# Manual calculation of standard deviation\n",
    "# Variance was previously calculated manually as variance_manual\n",
    "std_dev_manual = variance_manual ** 0.5\n",
    "\n",
    "print(f\"Manually Calculated Standard Deviation: {std_dev_manual:.2f} minutes\")\n",
    "\n",
    "# Using Pandas to calculate the standard deviation\n",
    "std_dev_pandas = all_streaming_df['minutesPlayed'].std()\n",
    "print(f\"Pandas Calculated Standard Deviation: {std_dev_pandas:.2f} minutes\")\n"
   ]
  },
  {
   "cell_type": "markdown",
   "id": "f522f826",
   "metadata": {},
   "source": [
    "The std is not that far from the average, meaning my track lengths don't swing wildly."
   ]
  },
  {
   "cell_type": "markdown",
   "id": "c438d8aa",
   "metadata": {},
   "source": [
    "### Kurtosis"
   ]
  },
  {
   "cell_type": "code",
   "execution_count": 22,
   "id": "e6c9415a",
   "metadata": {},
   "outputs": [
    {
     "name": "stdout",
     "output_type": "stream",
     "text": [
      "Manually Calculated Kurtosis: 2.26\n",
      "Pandas Calculated Kurtosis: 2.26\n"
     ]
    }
   ],
   "source": [
    "# Calculate mean and standard deviation\n",
    "mean_listening_time = all_streaming_df['minutesPlayed'].mean()\n",
    "sigma = all_streaming_df['minutesPlayed'].std()\n",
    "n = len(all_streaming_df['minutesPlayed'])\n",
    "\n",
    "# Calculate the sum of the fourth power of deviations from the mean\n",
    "sum_fourth_power_deviations = ((all_streaming_df['minutesPlayed'] - mean_listening_time) ** 4).sum()\n",
    "\n",
    "# Apply the formula for kurtosis\n",
    "kurtosis_manual = (n * (n + 1) / ((n - 1) * (n - 2) * (n - 3))) * (sum_fourth_power_deviations / sigma ** 4) - (3 * (n - 1) ** 2 / ((n - 2) * (n - 3)))\n",
    "\n",
    "# Using Pandas to calculate kurtosis for comparison\n",
    "kurtosis_ = all_streaming_df['minutesPlayed'].kurtosis()\n",
    "\n",
    "print(f\"Manually Calculated Kurtosis: {kurtosis_manual:.2f}\")\n",
    "print(f\"Pandas Calculated Kurtosis: {kurtosis_:.2f}\")\n"
   ]
  }
 ],
 "metadata": {
  "kernelspec": {
   "display_name": "Python 3 (ipykernel)",
   "language": "python",
   "name": "python3"
  },
  "language_info": {
   "codemirror_mode": {
    "name": "ipython",
    "version": 3
   },
   "file_extension": ".py",
   "mimetype": "text/x-python",
   "name": "python",
   "nbconvert_exporter": "python",
   "pygments_lexer": "ipython3",
   "version": "3.12.2"
  }
 },
 "nbformat": 4,
 "nbformat_minor": 5
}
